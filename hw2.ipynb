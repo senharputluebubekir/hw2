{
 "cells": [
  {
   "cell_type": "code",
   "execution_count": 1,
   "metadata": {},
   "outputs": [
    {
     "name": "stdout",
     "output_type": "stream",
     "text": [
      "you enter max. value\n",
      "13\n",
      "i= 0\n",
      "i= 1\n",
      "i= 2\n",
      "i= 3\n",
      "i= 4\n",
      "i= 5\n",
      "i= 6\n",
      "i= 7\n",
      "i= 8\n",
      "i= 9\n",
      "i= 10\n",
      "i= 11\n",
      "i= 12\n",
      "i= 13\n"
     ]
    }
   ],
   "source": [
    "##ritmik sayma fonksiyon girişi\n",
    "n=float(input(\"you enter max. value\\n\"))\n",
    "i=0\n",
    "while i<=n:\n",
    "    print(\"i=\",i)\n",
    "    i+=1"
   ]
  },
  {
   "cell_type": "code",
   "execution_count": 2,
   "metadata": {},
   "outputs": [
    {
     "name": "stdout",
     "output_type": "stream",
     "text": [
      "this part is hipotenüs function in math topic\n",
      "\n",
      "you enter the edge of a,please\n",
      "3\n",
      "you enter the edge of b,please\n",
      "4\n",
      "HİPOTENÜS= 5.0\n"
     ]
    }
   ],
   "source": [
    " ##hipetenüs fonksiyon girişi\n",
    "print(\"this part is hipotenüs function in math topic\\n\")\n",
    "a=float(input(\"you enter the edge of a,please\\n\"))\n",
    "b=float(input(\"you enter the edge of b,please\\n\"))\n",
    "HİPOTENÜS=((a**2+b**2)**0.5)\n",
    "print(\"HİPOTENÜS=\",HİPOTENÜS)"
   ]
  },
  {
   "cell_type": "code",
   "execution_count": 3,
   "metadata": {},
   "outputs": [
    {
     "name": "stdout",
     "output_type": "stream",
     "text": [
      "you enter number 1,please\n",
      "1\n",
      "you enter number 2,please\n",
      "1\n",
      "you enter number 3,please\n",
      "1\n",
      "you enter number 4,please\n",
      "1\n",
      "you enter number 5,please\n",
      "1\n",
      "you enter number 6,please\n",
      "1\n",
      "average= 1.0\n"
     ]
    }
   ],
   "source": [
    "##aritmetik ortalama fonksiyon girişi\n",
    "A=float(input(\"you enter number 1,please\\n\"))\n",
    "B=float(input(\"you enter number 2,please\\n\"))\n",
    "C=float(input(\"you enter number 3,please\\n\"))\n",
    "D=float(input(\"you enter number 4,please\\n\"))\n",
    "E=float(input(\"you enter number 5,please\\n\"))\n",
    "F=float(input(\"you enter number 6,please\\n\"))\n",
    "average=(A+B+C+D+E+F)/6\n",
    "print(\"average=\",average)"
   ]
  },
  {
   "cell_type": "code",
   "execution_count": 7,
   "metadata": {},
   "outputs": [
    {
     "name": "stdout",
     "output_type": "stream",
     "text": [
      "you choose number 1 or 2 or 3\n",
      "4\n",
      "you false chose,you restart program,please\n"
     ]
    }
   ],
   "source": [
    "giriş=float(input(\"you choose number 1 or 2 or 3\\n\")) ##kullanıcı seçim yapma arayüzü\n",
    "\n",
    "if giriş==1:\n",
    "    print(\"this part is hipotenüs function in math topic\\n\") ##hipetenüs fonksiyon girişi\n",
    "    \n",
    "elif giriş==2:\n",
    "    print(\"this part is rhythmic counting in math topic\\n\") ##ritmik sayma fonksiyon girişi\n",
    "\n",
    "elif giriş==3:\n",
    "    print(\"this part is arithmetic average in math topic\\n\") ##aritmetik ortalama fonksiyon girişi\n",
    "    \n",
    "else:    \n",
    "    print(\"you false chose,you restart program,please\") ##yanlış seçim uyarısı\n",
    "    "
   ]
  },
  {
   "cell_type": "code",
   "execution_count": null,
   "metadata": {},
   "outputs": [],
   "source": []
  }
 ],
 "metadata": {
  "kernelspec": {
   "display_name": "Python 3",
   "language": "python",
   "name": "python3"
  },
  "language_info": {
   "codemirror_mode": {
    "name": "ipython",
    "version": 3
   },
   "file_extension": ".py",
   "mimetype": "text/x-python",
   "name": "python",
   "nbconvert_exporter": "python",
   "pygments_lexer": "ipython3",
   "version": "3.7.0"
  }
 },
 "nbformat": 4,
 "nbformat_minor": 2
}
